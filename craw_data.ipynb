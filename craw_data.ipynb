{
 "cells": [
  {
   "cell_type": "code",
   "execution_count": 5,
   "metadata": {},
   "outputs": [],
   "source": [
    "import MetaTrader5 as mt5\n",
    "from datetime import datetime\n",
    "import pandas as pd\n",
    "import pytz\n",
    "\n",
    "def get_data_from_metatrader5(pair):\n",
    "\n",
    "    if not mt5.initialize(login=204979, server='ACCapital-Live', password=\"HuyManh2002#\"):\n",
    "        print(\"initialize() failed, error code =\", mt5.last_error())\n",
    "        # quit()\n",
    "\n",
    "    # timezone = pytz.timezone(\"Etc/UTC\")\n",
    "    start_time = pd.to_datetime(\"2010-01-01 00:00:00\")\n",
    "    end_time = datetime.now()\n",
    "\n",
    "    start_timestamp = int(start_time.timestamp())\n",
    "    end_timestamp = int(end_time.timestamp())\n",
    "\n",
    "    rate = mt5.copy_rates_range(pair, mt5.TIMEFRAME_M1, start_timestamp, end_timestamp)\n",
    "    df = pd.DataFrame(rate)\n",
    "\n",
    "    df[\"time\"] = pd.to_datetime(df[\"time\"], unit=\"s\")\n",
    "    df = df.rename(columns={'time': 'Date', 'open': 'Open',\n",
    "                   'low': 'Low', 'close': 'Close', 'high': 'High', 'tick_volume': 'Volume'})\n",
    "\n",
    "    mt5.shutdown()\n",
    "    return df\n"
   ]
  },
  {
   "cell_type": "code",
   "execution_count": null,
   "metadata": {},
   "outputs": [],
   "source": [
    "forex_pairs = [\n",
    "    'EURUSD', 'GBPUSD', 'USDJPY', 'AUDUSD', 'USDCHF',\n",
    "    'USDCAD', 'NZDUSD', 'EURGBP', 'EURJPY', 'GBPJPY',\n",
    "    'XAUUSD', 'USOIL'\n",
    "]\n",
    "\n",
    "for i in forex_pairs:\n",
    "    df=get_data_from_metatrader5(i)\n",
    "    df.to_csv(f'{i}.csv')\n",
    "    print(i)"
   ]
  },
  {
   "cell_type": "code",
   "execution_count": 7,
   "metadata": {},
   "outputs": [
    {
     "name": "stdout",
     "output_type": "stream",
     "text": [
      "DE30m \t 2019-07-16 08:00:00 2024-04-02 06:53:00\n",
      "FR40m \t 2019-07-16 08:00:00 2024-04-02 06:54:00\n",
      "AUS200m \t 2019-07-16 08:01:00 2024-04-02 06:54:00\n",
      "JP225m \t 2019-07-16 08:00:00 2024-04-02 06:53:00\n",
      "USTECm \t 2019-07-16 08:00:00 2024-04-02 06:54:00\n",
      "STOXX50m \t 2019-07-16 08:00:00 2024-04-02 06:53:00\n",
      "UK100m \t 2019-07-16 08:00:00 2024-04-02 06:54:00\n",
      "US30m \t 2019-07-16 08:00:00 2024-04-02 06:54:00\n",
      "US500m \t 2019-07-16 08:00:00 2024-04-02 06:54:00\n"
     ]
    }
   ],
   "source": [
    "indices_group=['DE30m','FR40m','AUS200m','JP225m',\\\n",
    "               'USTECm','STOXX50m','UK100m','US30m','US500m']\n",
    "for i in indices_group:\n",
    "    try:\n",
    "        df=get_data_from_metatrader5(i)\n",
    "        df.to_csv(f'C:/Users/Administrator/Documents/ManhNH/A_1/data/indices/{i}.csv')\n",
    "        print(i,'\\t',df.loc[1,'Date'], df.iloc[-1,0])\n",
    "    except Exception as e:\n",
    "        print(e)"
   ]
  },
  {
   "cell_type": "code",
   "execution_count": 7,
   "metadata": {},
   "outputs": [],
   "source": [
    "def get_data_from_metatrader5(pair):\n",
    "\n",
    "    if not mt5.initialize(login=204979, server='ACCapital-Live', password=\"HuyManh2002#\"):\n",
    "        print(\"initialize() failed, error code =\", mt5.last_error())\n",
    "        # quit()\n",
    "\n",
    "    # timezone = pytz.timezone(\"Etc/UTC\")\n",
    "    start_time = pd.to_datetime(\"2010-01-01 00:00:00\")\n",
    "    end_time = datetime.now()\n",
    "\n",
    "    start_timestamp = int(start_time.timestamp())\n",
    "    end_timestamp = int(end_time.timestamp())\n",
    "\n",
    "    rate = mt5.copy_rates_range(pair, mt5.TIMEFRAME_M1, start_timestamp, end_timestamp)\n",
    "    df = pd.DataFrame(rate)\n",
    "    try:\n",
    "        df[\"time\"] = pd.to_datetime(df[\"time\"], unit=\"s\")\n",
    "    except:\n",
    "        print(df.columns) \n",
    "    df = df.rename(columns={'time': 'Date', 'open': 'Open',\n",
    "                   'low': 'Low', 'close': 'Close', 'high': 'High', 'tick_volume': 'Volume'})\n",
    "\n",
    "    mt5.shutdown()\n",
    "    return df\n"
   ]
  },
  {
   "cell_type": "code",
   "execution_count": 8,
   "metadata": {},
   "outputs": [
    {
     "name": "stdout",
     "output_type": "stream",
     "text": [
      "DXY 2010-01-05 00:00:00 2024-05-06 02:51:00\n",
      "GER40 2019-03-18 07:01:00 2024-04-05 19:54:00\n",
      "HKG50 2010-01-05 00:00:00 2024-05-06 02:51:00\n",
      "AUS200 2020-09-23 11:31:00 2024-05-06 02:51:00\n",
      "JPN225 2010-01-05 00:00:00 2024-05-06 01:59:00\n",
      "US30 2010-01-04 00:00:00 2024-05-06 02:51:00\n",
      "NAS100 2010-01-04 00:00:00 2024-05-06 02:51:00\n",
      "SPX500 2010-01-04 00:00:00 2024-05-06 02:52:00\n",
      "UK100 2020-09-23 11:31:00 2024-04-02 07:04:00\n"
     ]
    }
   ],
   "source": [
    "indices_group=['DXY','GER40','HKG50','AUS200',\\\n",
    "               'JPN225','US30','NAS100','SPX500','UK100']\n",
    "for i in indices_group:\n",
    "    try:\n",
    "        df=get_data_from_metatrader5(i)\n",
    "        df.to_csv(f'C:/Users/Administrator/Documents/ManhNH/A_1/data/indices_1/{i}.csv')\n",
    "        print(i,df.iloc[1,0], df.iloc[-1,0])\n",
    "    except Exception as e:\n",
    "        print(e)"
   ]
  },
  {
   "cell_type": "code",
   "execution_count": 9,
   "metadata": {},
   "outputs": [
    {
     "name": "stdout",
     "output_type": "stream",
     "text": [
      "EURUSD\n",
      "RangeIndex(start=0, stop=0, step=1)\n",
      "GBPUSD\n",
      "RangeIndex(start=0, stop=0, step=1)\n",
      "USDJPY\n",
      "RangeIndex(start=0, stop=0, step=1)\n",
      "AUDUSD\n",
      "RangeIndex(start=0, stop=0, step=1)\n",
      "USDCHF\n",
      "RangeIndex(start=0, stop=0, step=1)\n",
      "USDCAD\n",
      "RangeIndex(start=0, stop=0, step=1)\n",
      "NZDUSD\n",
      "RangeIndex(start=0, stop=0, step=1)\n",
      "EURGBP\n",
      "RangeIndex(start=0, stop=0, step=1)\n",
      "EURJPY\n",
      "RangeIndex(start=0, stop=0, step=1)\n",
      "GBPJPY\n",
      "RangeIndex(start=0, stop=0, step=1)\n",
      "XAUUSD\n"
     ]
    }
   ],
   "source": [
    "forex_pairs = [\n",
    "    'EURUSD', 'GBPUSD', 'USDJPY', 'AUDUSD', 'USDCHF',\n",
    "    'USDCAD', 'NZDUSD', 'EURGBP', 'EURJPY', 'GBPJPY',\n",
    "    'XAUUSD'\n",
    "]\n",
    "\n",
    "for i in forex_pairs:\n",
    "    df=get_data_from_metatrader5(i)\n",
    "    df.to_csv(f'{i}.csv')\n",
    "    print(i)"
   ]
  },
  {
   "cell_type": "code",
   "execution_count": null,
   "metadata": {},
   "outputs": [],
   "source": []
  }
 ],
 "metadata": {
  "kernelspec": {
   "display_name": "Python 3",
   "language": "python",
   "name": "python3"
  },
  "language_info": {
   "codemirror_mode": {
    "name": "ipython",
    "version": 3
   },
   "file_extension": ".py",
   "mimetype": "text/x-python",
   "name": "python",
   "nbconvert_exporter": "python",
   "pygments_lexer": "ipython3",
   "version": "3.11.5"
  }
 },
 "nbformat": 4,
 "nbformat_minor": 2
}
